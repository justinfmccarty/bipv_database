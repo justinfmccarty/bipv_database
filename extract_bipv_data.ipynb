{
  "nbformat": 4,
  "nbformat_minor": 0,
  "metadata": {
    "colab": {
      "name": "extract_bipv_data.ipynb",
      "provenance": [],
      "collapsed_sections": [],
      "authorship_tag": "ABX9TyPz5PC5bW+y6xyGMc2c7tR5",
      "include_colab_link": true
    },
    "kernelspec": {
      "name": "python3",
      "display_name": "Python 3"
    },
    "language_info": {
      "name": "python"
    }
  },
  "cells": [
    {
      "cell_type": "markdown",
      "metadata": {
        "id": "view-in-github",
        "colab_type": "text"
      },
      "source": [
        "<a href=\"https://colab.research.google.com/github/justinfmccarty/bipv_database/blob/main/extract_bipv_data.ipynb\" target=\"_parent\"><img src=\"https://colab.research.google.com/assets/colab-badge.svg\" alt=\"Open In Colab\"/></a>"
      ]
    },
    {
      "cell_type": "markdown",
      "metadata": {
        "id": "Q1t6FZ6N3iL4"
      },
      "source": [
        "## Eiffert and Kiss - Building Integrated Photovoltaic Design Book"
      ]
    },
    {
      "cell_type": "markdown",
      "metadata": {
        "id": "emQeHM0G3oIE"
      },
      "source": [
        "Eiffert, Patrina, and Gregory J Kiss. “Building-Integrated Photovoltaic Designs for Commercial and Institutional Structures A Sourcebook for Architects,” 2000, 92.\n"
      ]
    },
    {
      "cell_type": "code",
      "metadata": {
        "id": "MuyEDx4C4Xin"
      },
      "source": [
        "!pip install pdfplumber"
      ],
      "execution_count": null,
      "outputs": []
    },
    {
      "cell_type": "code",
      "metadata": {
        "id": "xU1R8weY4R2M"
      },
      "source": [
        "import pdfplumber\n",
        "import pandas as pd\n",
        "from google.colab import files"
      ],
      "execution_count": 207,
      "outputs": []
    },
    {
      "cell_type": "code",
      "metadata": {
        "colab": {
          "base_uri": "https://localhost:8080/"
        },
        "id": "Ihq_V4LE4prQ",
        "outputId": "6b5fbace-96c1-4171-a00e-bb91349fb4d2"
      },
      "source": [
        "# url = r'https://github.com/justinfmccarty/bipv_database/raw/main/Eiffert%20and%20Kiss%20-%20Building-Integrated%20Photovoltaic%20Designs%20for%20Comme.pdf'\n",
        "url = r'https://github.com/justinfmccarty/bipv_database/raw/main/Pages%20from%20Eiffert%20and%20Kiss%20-%20Building-Integrated%20Photovoltaic%20Design.pdf'\n",
        "import os\n",
        "import urllib.request\n",
        "urllib.request.urlretrieve(url, 'eiffert_and_kiss.pdf')"
      ],
      "execution_count": 40,
      "outputs": [
        {
          "output_type": "execute_result",
          "data": {
            "text/plain": [
              "('eiffert_and_kiss.pdf', <http.client.HTTPMessage at 0x7fbc3ec1d410>)"
            ]
          },
          "metadata": {
            "tags": []
          },
          "execution_count": 40
        }
      ]
    },
    {
      "cell_type": "code",
      "metadata": {
        "id": "OFRhVwunFpDM"
      },
      "source": [
        "with pdfplumber.open('/content/eiffert_and_kiss.pdf') as pdf:\n",
        "    total_pages = range(len(pdf.pages))"
      ],
      "execution_count": null,
      "outputs": []
    },
    {
      "cell_type": "code",
      "metadata": {
        "id": "3shargYhGCtk"
      },
      "source": [
        "for i in total_pages:\n",
        "      print(i)"
      ],
      "execution_count": null,
      "outputs": []
    },
    {
      "cell_type": "code",
      "metadata": {
        "colab": {
          "base_uri": "https://localhost:8080/"
        },
        "id": "S_yb3vl8Kd0E",
        "outputId": "2907d8fb-b189-49e5-9c89-6d28958edad2"
      },
      "source": [
        "txt = ['Approx.', '3,800']\n",
        "\n",
        "for s in txt:\n",
        "  if s[0].isdigit():\n",
        "    print(s)"
      ],
      "execution_count": 182,
      "outputs": [
        {
          "output_type": "stream",
          "text": [
            "3,800\n"
          ],
          "name": "stdout"
        }
      ]
    },
    {
      "cell_type": "code",
      "metadata": {
        "colab": {
          "base_uri": "https://localhost:8080/",
          "height": 17
        },
        "id": "CmjnenyX3f37",
        "outputId": "7368b599-54a2-490f-a9ee-9d5fd0884b00"
      },
      "source": [
        "df_all = []\n",
        "\n",
        "for i in total_pages:\n",
        "  with pdfplumber.open('/content/eiffert_and_kiss.pdf') as pdf:\n",
        "      first_page = pdf.pages[i]\n",
        "      text = first_page.extract_text(x_tolerance=0, y_tolerance=3)\n",
        "      text_file = open(f\"Output{i}.txt\", \"w\")\n",
        "      text_file.write(text)\n",
        "      text_file.close()\n",
        "\n",
        "  data_dict = dict()\n",
        "\n",
        "  a_file = open(f\"Output{i}.txt\")\n",
        "  lines = a_file.readlines()\n",
        "  lines\n",
        "  for x, line in enumerate(lines):\n",
        "    # get name\n",
        "    if x==0:\n",
        "      data_dict['name'] = line[2:]\n",
        "\n",
        "    # get year completed\n",
        "    if \"Date Completed:\" in line:\n",
        "      data_dict['year'] = line.split(' ')[-1]\n",
        "    \n",
        "    # get module type\n",
        "    if \"PV Product:\" in line:\n",
        "      data_dict['module'] = line.split(':')[1]\n",
        "\n",
        "    # get cell type\n",
        "    if \"Cell\" in line:\n",
        "      data_dict['cell'] = line.split(':')[1]\n",
        "\n",
        "    # get connect type\n",
        "      # if \"ction:\" in line:\n",
        "      #   data_dict['connection'] = line.split(':')[1]\n",
        "\n",
        "    # get output kWh annual\n",
        "    if \"Output:\" in line:\n",
        "      if 'h' in line:\n",
        "        output_str = line.split(':')[1].split(' kWh')[0]\n",
        "        if ',' in output_str:\n",
        "          output = float(output_str.replace(',',''))\n",
        "        else:\n",
        "          output = float(output_str)\n",
        "        data_dict['output'] = output\n",
        "      else:\n",
        "        data_dict['output'] = 'na'\n",
        "\n",
        "    # get and convert coverage\n",
        "    if \"Area:\" in line:\n",
        "      area_str = line.split(':')[1].split(' ft')[0]      \n",
        "      if 'm' in area_str:\n",
        "        area = area_str.split(' m')[0]\n",
        "        if ',' in area:\n",
        "          area = float(area.replace(',',''))\n",
        "        else:\n",
        "          area = float(area)\n",
        "      elif ',' in area_str:\n",
        "        if 'pprox' in area_str:\n",
        "          area_str = area_str.split('. ')[1]\n",
        "          area = float(area_str.replace(',',''))*0.092903\n",
        "        else:\n",
        "          area = float(area_str.replace(',',''))*0.092903\n",
        "      \n",
        "      else:\n",
        "        area = float(area_str)*0.092903\n",
        "      data_dict['coverage'] = area\n",
        "\n",
        "    # get rating\n",
        "    if \"kWp\" in line:\n",
        "      if 'nve' in line:\n",
        "        data_dict['rating'] = 'na'\n",
        "      else:\n",
        "        rating_str = line.split(':')[1]\n",
        "        rating = rating_str.replace('kWp','')\n",
        "        data_dict['rating'] = rating\n",
        "\n",
        "  page_data = pd.DataFrame.from_dict(data_dict, orient='index').transpose()\n",
        "  df_all.append(page_data)\n",
        "  \n",
        "\n",
        "pd.concat(df_all).to_csv('eiffert_and_kiss.csv')\n",
        "files.download('eiffert_and_kiss.csv')"
      ],
      "execution_count": 208,
      "outputs": [
        {
          "output_type": "display_data",
          "data": {
            "application/javascript": [
              "\n",
              "    async function download(id, filename, size) {\n",
              "      if (!google.colab.kernel.accessAllowed) {\n",
              "        return;\n",
              "      }\n",
              "      const div = document.createElement('div');\n",
              "      const label = document.createElement('label');\n",
              "      label.textContent = `Downloading \"${filename}\": `;\n",
              "      div.appendChild(label);\n",
              "      const progress = document.createElement('progress');\n",
              "      progress.max = size;\n",
              "      div.appendChild(progress);\n",
              "      document.body.appendChild(div);\n",
              "\n",
              "      const buffers = [];\n",
              "      let downloaded = 0;\n",
              "\n",
              "      const channel = await google.colab.kernel.comms.open(id);\n",
              "      // Send a message to notify the kernel that we're ready.\n",
              "      channel.send({})\n",
              "\n",
              "      for await (const message of channel.messages) {\n",
              "        // Send a message to notify the kernel that we're ready.\n",
              "        channel.send({})\n",
              "        if (message.buffers) {\n",
              "          for (const buffer of message.buffers) {\n",
              "            buffers.push(buffer);\n",
              "            downloaded += buffer.byteLength;\n",
              "            progress.value = downloaded;\n",
              "          }\n",
              "        }\n",
              "      }\n",
              "      const blob = new Blob(buffers, {type: 'application/binary'});\n",
              "      const a = document.createElement('a');\n",
              "      a.href = window.URL.createObjectURL(blob);\n",
              "      a.download = filename;\n",
              "      div.appendChild(a);\n",
              "      a.click();\n",
              "      div.remove();\n",
              "    }\n",
              "  "
            ],
            "text/plain": [
              "<IPython.core.display.Javascript object>"
            ]
          },
          "metadata": {
            "tags": []
          }
        },
        {
          "output_type": "display_data",
          "data": {
            "application/javascript": [
              "download(\"download_dd83806c-2d62-487d-a44c-f73f9be71f3b\", \"eiffert_and_kiss.csv\", 2064)"
            ],
            "text/plain": [
              "<IPython.core.display.Javascript object>"
            ]
          },
          "metadata": {
            "tags": []
          }
        }
      ]
    }
  ]
}