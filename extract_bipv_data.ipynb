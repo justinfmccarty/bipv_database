{
  "nbformat": 4,
  "nbformat_minor": 0,
  "metadata": {
    "colab": {
      "name": "extract_bipv_data.ipynb",
      "provenance": [],
      "authorship_tag": "ABX9TyN8RLeL6juFPTxPelStP3et",
      "include_colab_link": true
    },
    "kernelspec": {
      "name": "python3",
      "display_name": "Python 3"
    },
    "language_info": {
      "name": "python"
    }
  },
  "cells": [
    {
      "cell_type": "markdown",
      "metadata": {
        "id": "view-in-github",
        "colab_type": "text"
      },
      "source": [
        "<a href=\"https://colab.research.google.com/github/justinfmccarty/bipv_database/blob/main/extract_bipv_data.ipynb\" target=\"_parent\"><img src=\"https://colab.research.google.com/assets/colab-badge.svg\" alt=\"Open In Colab\"/></a>"
      ]
    },
    {
      "cell_type": "markdown",
      "metadata": {
        "id": "Q1t6FZ6N3iL4"
      },
      "source": [
        "## Eiffert and Kiss - Building Integrated Photovoltaic Design Book"
      ]
    },
    {
      "cell_type": "markdown",
      "metadata": {
        "id": "emQeHM0G3oIE"
      },
      "source": [
        "Eiffert, Patrina, and Gregory J Kiss. “Building-Integrated Photovoltaic Designs for Commercial and Institutional Structures A Sourcebook for Architects,” 2000, 92.\n"
      ]
    },
    {
      "cell_type": "code",
      "metadata": {
        "colab": {
          "base_uri": "https://localhost:8080/"
        },
        "id": "CmjnenyX3f37",
        "outputId": "8abfe290-30c2-4300-e5b3-645b1393717a"
      },
      "source": [
        "print('hello')"
      ],
      "execution_count": null,
      "outputs": [
        {
          "output_type": "stream",
          "text": [
            "hello\n"
          ],
          "name": "stdout"
        }
      ]
    }
  ]
}