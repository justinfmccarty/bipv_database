{
  "cells": [
    {
      "cell_type": "code",
      "source": [
        "from bs4 import BeautifulSoup\n",
        "import urllib.request \n",
        "import re\n",
        "from tqdm import tqdm\n",
        "import requests\n",
        "import time"
      ],
      "outputs": [],
      "execution_count": 67,
      "metadata": {
        "collapsed": true,
        "jupyter": {
          "source_hidden": false,
          "outputs_hidden": false
        },
        "nteract": {
          "transient": {
            "deleting": false
          }
        },
        "execution": {
          "iopub.status.busy": "2021-06-29T12:17:02.499Z",
          "iopub.execute_input": "2021-06-29T12:17:02.504Z",
          "iopub.status.idle": "2021-06-29T12:17:02.515Z",
          "shell.execute_reply": "2021-06-29T12:17:02.519Z"
        }
      }
    },
    {
      "cell_type": "code",
      "source": [
        "url_list = [\n",
        "    \"http://www.bipv.ch/index.php/en/other-s-en\",\n",
        "    \"http://www.bipv.ch/index.php/en/histori-s-en\",\n",
        "    \"http://www.bipv.ch/index.php/en/urban-s-en\",\n",
        "    \"http://www.bipv.ch/index.php/en/agricultura-s-en\",\n",
        "    \"http://www.bipv.ch/index.php/en/sport-s-en\",\n",
        "    \"http://www.bipv.ch/index.php/en/industrial-s-en\",\n",
        "    \"http://www.bipv.ch/index.php/en/administration-s-en\",\n",
        "    \"http://www.bipv.ch/index.php/en/residential-side-en\",\n",
        "    \"http://www.bipv.ch/index.php/en/examples-top-en/administration-en\"\n",
        "]"
      ],
      "outputs": [],
      "execution_count": null,
      "metadata": {
        "collapsed": true,
        "jupyter": {
          "source_hidden": false,
          "outputs_hidden": false
        },
        "nteract": {
          "transient": {
            "deleting": false
          }
        },
        "execution": {
          "iopub.status.busy": "2021-06-29T11:55:48.329Z",
          "iopub.execute_input": "2021-06-29T11:55:48.335Z",
          "iopub.status.idle": "2021-06-29T11:55:48.349Z",
          "shell.execute_reply": "2021-06-29T11:55:48.353Z"
        }
      }
    },
    {
      "cell_type": "code",
      "source": [
        "# url = \"http://www.bipv.ch/index.php/en/examples-top-en/administration-en\"\n",
        "for url in url_list:\n",
        "    label = url.split('en/')[-1].split('-en')[0]\n",
        "    if '-s' in label:\n",
        "        label = label.split('-')[0]\n",
        "    else:\n",
        "        pass\n",
        "    print(label)"
      ],
      "outputs": [
        {
          "output_type": "stream",
          "name": "stdout",
          "text": [
            "other\n",
            "histori\n",
            "urban\n",
            "agricultura\n",
            "sport\n",
            "industrial\n",
            "administration\n",
            "residential\n",
            "administration\n"
          ]
        }
      ],
      "execution_count": 61,
      "metadata": {
        "collapsed": true,
        "jupyter": {
          "source_hidden": false,
          "outputs_hidden": false
        },
        "nteract": {
          "transient": {
            "deleting": false
          }
        },
        "execution": {
          "iopub.status.busy": "2021-06-29T12:12:41.084Z",
          "iopub.execute_input": "2021-06-29T12:12:41.091Z",
          "iopub.status.idle": "2021-06-29T12:12:41.106Z",
          "shell.execute_reply": "2021-06-29T12:12:41.110Z"
        }
      }
    },
    {
      "cell_type": "markdown",
      "source": [
        "Sample Link: http://www.bipv.ch/index.php/en/other-s-en/item/1093-muse-eng\n",
        "\n",
        "Open links and find the .PDF href and add to list for bulk download later"
      ],
      "metadata": {
        "nteract": {
          "transient": {
            "deleting": false
          }
        }
      }
    },
    {
      "cell_type": "code",
      "source": [
        "html_page = urllib.request.urlopen(\"http://www.bipv.ch/index.php/en/examples-top-en/administration-en\")\n",
        "soup = BeautifulSoup(html_page)\n",
        "\n",
        "project_list = []\n",
        "for link in soup.findAll('a', attrs={'class': \"k2ReadMore\"}):\n",
        "    current_link = (\"http://www.bipv.ch\" + link.get('href'))\n",
        "    project_list.append(current_link)"
      ],
      "outputs": [],
      "execution_count": null,
      "metadata": {
        "collapsed": true,
        "jupyter": {
          "source_hidden": false,
          "outputs_hidden": false
        },
        "nteract": {
          "transient": {
            "deleting": false
          }
        },
        "execution": {
          "iopub.status.busy": "2021-06-29T11:49:13.478Z",
          "iopub.execute_input": "2021-06-29T11:49:13.482Z",
          "iopub.status.idle": "2021-06-29T11:49:14.394Z",
          "shell.execute_reply": "2021-06-29T11:49:14.399Z"
        }
      }
    },
    {
      "cell_type": "code",
      "source": [
        "for link in project_list:\n",
        "    my_url = link\n",
        "    html=urllib.request.urlopen(my_url).read()\n",
        "    sopa = BeautifulSoup(html)\n",
        "    current_link = ''\n",
        "    for link in sopa.find_all('a'):\n",
        "        current_link = link.get('href')\n",
        "        if current_link.endswith('pdf'):\n",
        "            print(\"http://www.bipv.ch\" + current_link)"
      ],
      "outputs": [],
      "execution_count": null,
      "metadata": {
        "collapsed": true,
        "jupyter": {
          "source_hidden": false,
          "outputs_hidden": false
        },
        "nteract": {
          "transient": {
            "deleting": false
          }
        },
        "execution": {
          "iopub.status.busy": "2021-06-29T11:50:32.340Z",
          "iopub.execute_input": "2021-06-29T11:50:32.344Z",
          "iopub.status.idle": "2021-06-29T11:50:48.756Z",
          "shell.execute_reply": "2021-06-29T11:50:48.764Z"
        }
      }
    },
    {
      "cell_type": "code",
      "source": [
        "def get_pdf_list(url):\n",
        "    html_page = urllib.request.urlopen(url)\n",
        "    soup = BeautifulSoup(html_page)\n",
        "\n",
        "    project_list = []\n",
        "    for link in soup.findAll('a', attrs={'class': \"k2ReadMore\"}):\n",
        "        current_link = (\"http://www.bipv.ch\" + link.get('href'))\n",
        "        project_list.append(current_link)\n",
        "    \n",
        "    pdf_list = []\n",
        "    for link in project_list:\n",
        "        my_url = link\n",
        "        html=urllib.request.urlopen(my_url).read()\n",
        "        sopa = BeautifulSoup(html)\n",
        "        current_link = ''\n",
        "        for link in sopa.find_all('a'):\n",
        "            current_link = link.get('href')\n",
        "            if current_link.endswith('pdf'):\n",
        "                pdf = (\"http://www.bipv.ch\" + current_link)\n",
        "                pdf_list.append(pdf)\n",
        "    return pdf_list"
      ],
      "outputs": [],
      "execution_count": null,
      "metadata": {
        "collapsed": true,
        "jupyter": {
          "source_hidden": false,
          "outputs_hidden": false
        },
        "nteract": {
          "transient": {
            "deleting": false
          }
        },
        "execution": {
          "iopub.status.busy": "2021-06-29T11:52:22.830Z",
          "iopub.execute_input": "2021-06-29T11:52:22.834Z",
          "iopub.status.idle": "2021-06-29T11:52:22.841Z",
          "shell.execute_reply": "2021-06-29T11:52:22.846Z"
        }
      }
    },
    {
      "cell_type": "code",
      "source": [
        "pdf_dict = dict()\n",
        "for url in tqdm(url_list):\n",
        "    label = url.split('en/')[-1].split('-en')[0]\n",
        "    if '-s' in label:\n",
        "        label = label.split('-')[0]\n",
        "    else:\n",
        "        pass\n",
        "    pdf_dict[label] = get_pdf_list(url)"
      ],
      "outputs": [],
      "execution_count": null,
      "metadata": {
        "collapsed": true,
        "jupyter": {
          "source_hidden": false,
          "outputs_hidden": false
        },
        "nteract": {
          "transient": {
            "deleting": false
          }
        },
        "execution": {
          "iopub.status.busy": "2021-06-29T12:00:00.378Z",
          "iopub.execute_input": "2021-06-29T12:00:00.387Z",
          "iopub.status.idle": "2021-06-29T12:01:56.792Z",
          "shell.execute_reply": "2021-06-29T12:01:56.803Z"
        }
      }
    },
    {
      "cell_type": "code",
      "source": [
        "sample  = pdf_dict[list(pdf_dict.keys())[0]][0]\n",
        "print(sample.split('/')[-1])"
      ],
      "outputs": [
        {
          "output_type": "stream",
          "name": "stdout",
          "text": [
            "Muse_2013_ENG_.pdf\n"
          ]
        }
      ],
      "execution_count": 58,
      "metadata": {
        "collapsed": true,
        "jupyter": {
          "source_hidden": false,
          "outputs_hidden": false
        },
        "nteract": {
          "transient": {
            "deleting": false
          }
        },
        "execution": {
          "iopub.status.busy": "2021-06-29T12:11:06.607Z",
          "iopub.execute_input": "2021-06-29T12:11:06.611Z",
          "iopub.status.idle": "2021-06-29T12:11:06.631Z",
          "shell.execute_reply": "2021-06-29T12:11:06.634Z"
        }
      }
    },
    {
      "cell_type": "code",
      "source": [
        "list(range(0,len(list(pdf_dict.keys()))))[1:]"
      ],
      "outputs": [
        {
          "output_type": "execute_result",
          "execution_count": 73,
          "data": {
            "text/plain": "[1, 2, 3, 4, 5, 6, 7]"
          },
          "metadata": {}
        }
      ],
      "execution_count": 73,
      "metadata": {
        "collapsed": true,
        "jupyter": {
          "source_hidden": false,
          "outputs_hidden": false
        },
        "nteract": {
          "transient": {
            "deleting": false
          }
        },
        "execution": {
          "iopub.status.busy": "2021-06-29T12:18:37.389Z",
          "iopub.execute_input": "2021-06-29T12:18:37.392Z",
          "iopub.status.idle": "2021-06-29T12:18:37.400Z",
          "shell.execute_reply": "2021-06-29T12:18:37.404Z"
        }
      }
    },
    {
      "cell_type": "code",
      "source": [
        "for i in list(range(0,len(list(pdf_dict.keys()))))[1:]:\n",
        "    label = list(pdf_dict.keys())[i]\n",
        "\n",
        "    for url in tqdm(pdf_dict[label]):\n",
        "        time.sleep(1)\n",
        "        response = requests.get(url)\n",
        "        name = url.split('/')[-1]\n",
        "\n",
        "        with open(f'/Users/jmccarty/GitHub/bipv_database/data/bipv_ch/{name}', 'wb') as f:\n",
        "            f.write(response.content)"
      ],
      "outputs": [
        {
          "output_type": "stream",
          "name": "stderr",
          "text": [
            "100%|██████████| 5/5 [00:08<00:00,  1.65s/it]\n",
            "100%|██████████| 4/4 [00:06<00:00,  1.72s/it]\n",
            "100%|██████████| 4/4 [00:06<00:00,  1.50s/it]\n",
            "100%|██████████| 6/6 [00:08<00:00,  1.47s/it]\n",
            "100%|██████████| 12/12 [00:18<00:00,  1.53s/it]\n",
            "100%|██████████| 23/23 [00:36<00:00,  1.59s/it]\n",
            "100%|██████████| 39/39 [01:35<00:00,  2.45s/it]\n"
          ]
        }
      ],
      "execution_count": 74,
      "metadata": {
        "collapsed": true,
        "jupyter": {
          "source_hidden": false,
          "outputs_hidden": false
        },
        "nteract": {
          "transient": {
            "deleting": false
          }
        },
        "execution": {
          "iopub.status.busy": "2021-06-29T12:18:44.230Z",
          "iopub.execute_input": "2021-06-29T12:18:44.238Z",
          "shell.execute_reply": "2021-06-29T12:21:44.780Z",
          "iopub.status.idle": "2021-06-29T12:21:44.770Z"
        }
      }
    }
  ],
  "metadata": {
    "kernel_info": {
      "name": "python3"
    },
    "language_info": {
      "name": "python",
      "version": "3.9.5",
      "mimetype": "text/x-python",
      "codemirror_mode": {
        "name": "ipython",
        "version": 3
      },
      "pygments_lexer": "ipython3",
      "nbconvert_exporter": "python",
      "file_extension": ".py"
    },
    "kernelspec": {
      "argv": [
        "/opt/homebrew/Caskroom/miniforge/base/envs/nteract/bin/python",
        "-m",
        "ipykernel_launcher",
        "-f",
        "{connection_file}"
      ],
      "display_name": "Python 3",
      "language": "python",
      "name": "python3"
    },
    "nteract": {
      "version": "0.28.0"
    }
  },
  "nbformat": 4,
  "nbformat_minor": 0
}