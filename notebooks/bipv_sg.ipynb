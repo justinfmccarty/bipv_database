{
  "cells": [
    {
      "cell_type": "code",
      "source": [
        "import pandas as pd\n",
        "import os\n",
        "import glob\n",
        "import numpy as np\n",
        "\n"
      ],
      "outputs": [],
      "execution_count": 1,
      "metadata": {
        "collapsed": true,
        "jupyter": {
          "source_hidden": false,
          "outputs_hidden": false
        },
        "nteract": {
          "transient": {
            "deleting": false
          }
        },
        "execution": {
          "iopub.status.busy": "2021-06-28T11:24:32.155Z",
          "iopub.execute_input": "2021-06-28T11:24:32.161Z",
          "iopub.status.idle": "2021-06-28T11:24:32.757Z",
          "shell.execute_reply": "2021-06-28T11:24:32.765Z"
        }
      }
    },
    {
      "cell_type": "code",
      "source": [
        "folder = '/Users/jmccarty/Downloads/BIPV_Map_World/*'\n",
        "\n",
        "data_list = []\n",
        "\n",
        "for file in glob.glob(folder):\n",
        "    print(file)\n",
        "    data_list.append(pd.read_csv(file))\n",
        "df = pd.concat(data_list).reset_index(drop=True)"
      ],
      "outputs": [
        {
          "output_type": "stream",
          "name": "stdout",
          "text": [
            "/Users/jmccarty/Downloads/BIPV_Map_World/Singapore.csv\n",
            "/Users/jmccarty/Downloads/BIPV_Map_World/Japan.csv\n",
            "/Users/jmccarty/Downloads/BIPV_Map_World/North_America.csv\n",
            "/Users/jmccarty/Downloads/BIPV_Map_World/South_America.csv\n",
            "/Users/jmccarty/Downloads/BIPV_Map_World/Europe.csv\n",
            "/Users/jmccarty/Downloads/BIPV_Map_World/Asia.csv\n",
            "/Users/jmccarty/Downloads/BIPV_Map_World/Australia.csv\n",
            "/Users/jmccarty/Downloads/BIPV_Map_World/Africa.csv\n",
            "/Users/jmccarty/Downloads/BIPV_Map_World/South_Korea.csv\n",
            "/Users/jmccarty/Downloads/BIPV_Map_World/China.csv\n",
            "/Users/jmccarty/Downloads/BIPV_Map_World/Taiwan.csv\n"
          ]
        }
      ],
      "execution_count": 2,
      "metadata": {
        "collapsed": true,
        "jupyter": {
          "source_hidden": false,
          "outputs_hidden": false
        },
        "nteract": {
          "transient": {
            "deleting": false
          }
        },
        "execution": {
          "iopub.status.busy": "2021-06-28T11:24:34.448Z",
          "iopub.execute_input": "2021-06-28T11:24:34.451Z",
          "iopub.status.idle": "2021-06-28T11:24:34.529Z",
          "shell.execute_reply": "2021-06-28T11:24:34.540Z"
        }
      }
    },
    {
      "cell_type": "code",
      "source": [
        "df['description'][0][0]"
      ],
      "outputs": [
        {
          "output_type": "execute_result",
          "execution_count": 3,
          "data": {
            "text/plain": "'7'"
          },
          "metadata": {}
        }
      ],
      "execution_count": 3,
      "metadata": {
        "collapsed": true,
        "jupyter": {
          "source_hidden": false,
          "outputs_hidden": false
        },
        "nteract": {
          "transient": {
            "deleting": false
          }
        },
        "execution": {
          "iopub.status.busy": "2021-06-28T11:24:37.194Z",
          "iopub.execute_input": "2021-06-28T11:24:37.203Z",
          "iopub.status.idle": "2021-06-28T11:24:37.225Z",
          "shell.execute_reply": "2021-06-28T11:24:37.237Z"
        }
      }
    },
    {
      "cell_type": "code",
      "source": [
        "descriptions = []\n",
        "image_links = []\n",
        "for i in list(range(0,len(df))):\n",
        "    if df['description'][i][0]=='<':\n",
        "        descriptions.append(df['description'][i].split('<br><br>')[2])\n",
        "        image_links.append(df['description'][i].split('<br><br>')[0].split('\"')[1])\n",
        "    else:\n",
        "        descriptions.append(np.nan)\n",
        "        image_links.append(np.nan)\n",
        "\n",
        "\n",
        "df['descriptions_clean'] = descriptions\n",
        "df['image_links'] = image_links"
      ],
      "outputs": [],
      "execution_count": 4,
      "metadata": {
        "collapsed": true,
        "jupyter": {
          "source_hidden": false,
          "outputs_hidden": false
        },
        "nteract": {
          "transient": {
            "deleting": false
          }
        },
        "execution": {
          "iopub.status.busy": "2021-06-28T11:24:39.122Z",
          "iopub.execute_input": "2021-06-28T11:24:39.126Z",
          "iopub.status.idle": "2021-06-28T11:24:39.144Z",
          "shell.execute_reply": "2021-06-28T11:24:39.159Z"
        }
      }
    },
    {
      "cell_type": "code",
      "source": [
        "df.to_csv('/Users/jmccarty/GitHub/bipv_database/data/bipv_world.csv')"
      ],
      "outputs": [],
      "execution_count": 5,
      "metadata": {
        "collapsed": true,
        "jupyter": {
          "source_hidden": false,
          "outputs_hidden": false
        },
        "nteract": {
          "transient": {
            "deleting": false
          }
        },
        "execution": {
          "iopub.status.busy": "2021-06-28T11:24:41.174Z",
          "iopub.execute_input": "2021-06-28T11:24:41.193Z",
          "iopub.status.idle": "2021-06-28T11:24:41.208Z",
          "shell.execute_reply": "2021-06-28T11:24:41.211Z"
        }
      }
    },
    {
      "cell_type": "code",
      "source": [],
      "outputs": [
        {
          "output_type": "execute_result",
          "execution_count": 6,
          "data": {
            "text/plain": "             X          Y                                          Name  \\\n0   103.771414   1.300354     Solar Energy Research Institute Singapore   \n1   103.873962   1.306078                          Singapore Sports Hub   \n2   103.856504   1.295674                             South Beach Tower   \n3   103.929381   1.324764                                    Bedok Mall   \n4   103.845887   1.277148            Tanjong Pagar Centre (Guoco Tower)   \n..         ...        ...                                           ...   \n56  151.194468 -33.842989     The Coal Loader Centre for Sustainability   \n57   -7.935658  32.218173            Mohammed VI Polytechnic University   \n58  126.920240  37.522134               Federation of Korean Industries   \n59  115.976577  28.692983  Pharmaceutical International Innovation Park   \n60  120.294495  22.703036                       Taiwan National Stadium   \n\n                                          description  \\\n0   7 Engineering Drive 1, #06-01 Block E3A, Singa...   \n1   <img src=\"https://doc-10-c4-mymaps.googleuserc...   \n2   <img src=\"https://doc-00-c4-mymaps.googleuserc...   \n3   <img src=\"https://doc-0s-c4-mymaps.googleuserc...   \n4   <img src=\"https://doc-0s-c4-mymaps.googleuserc...   \n..                                                ...   \n56  <img src=\"https://doc-0c-6s-mymaps.googleuserc...   \n57  <img src=\"https://doc-14-6s-mymaps.googleuserc...   \n58  <img src=\"https://doc-04-c4-mymaps.googleuserc...   \n59  <img src=\"https://doc-0g-c4-mymaps.googleuserc...   \n60  <img src=\"https://doc-14-c4-mymaps.googleuserc...   \n\n                                       gx_media_links  \\\n0                                                 NaN   \n1                                                 NaN   \n2                                                 NaN   \n3                                                 NaN   \n4                                                 NaN   \n..                                                ...   \n56  https://doc-0c-6s-mymaps.googleusercontent.com...   \n57  https://doc-14-6s-mymaps.googleusercontent.com...   \n58  https://doc-04-c4-mymaps.googleusercontent.com...   \n59  https://doc-0g-c4-mymaps.googleusercontent.com...   \n60  https://doc-14-c4-mymaps.googleusercontent.com...   \n\n                                   descriptions_clean  \\\n0                                                 NaN   \n1   The PVs located in Singapore Sports Hub are an...   \n2   The PVs located on South Beach Tower  are an e...   \n3   Bedok Mall, located in the east of Singapore, ...   \n4   The Tanjong Pagar Center is located in the mid...   \n..                                                ...   \n56  The PV glass has been installed without the fr...   \n57  This photovoltaic pergola of nearly 600 m2 was...   \n58  The Federation of Korean Industries have chose...   \n59  The Pharmaceutical International Innovation Pa...   \n60  The Taiwan national stadium was made in order ...   \n\n                                          image_links  \n0                                                 NaN  \n1   https://doc-10-c4-mymaps.googleusercontent.com...  \n2   https://doc-00-c4-mymaps.googleusercontent.com...  \n3   https://doc-0s-c4-mymaps.googleusercontent.com...  \n4   https://doc-0s-c4-mymaps.googleusercontent.com...  \n..                                                ...  \n56  https://doc-0c-6s-mymaps.googleusercontent.com...  \n57  https://doc-14-6s-mymaps.googleusercontent.com...  \n58  https://doc-04-c4-mymaps.googleusercontent.com...  \n59  https://doc-0g-c4-mymaps.googleusercontent.com...  \n60  https://doc-14-c4-mymaps.googleusercontent.com...  \n\n[61 rows x 7 columns]",
            "text/html": "<div>\n<style scoped>\n    .dataframe tbody tr th:only-of-type {\n        vertical-align: middle;\n    }\n\n    .dataframe tbody tr th {\n        vertical-align: top;\n    }\n\n    .dataframe thead th {\n        text-align: right;\n    }\n</style>\n<table border=\"1\" class=\"dataframe\">\n  <thead>\n    <tr style=\"text-align: right;\">\n      <th></th>\n      <th>X</th>\n      <th>Y</th>\n      <th>Name</th>\n      <th>description</th>\n      <th>gx_media_links</th>\n      <th>descriptions_clean</th>\n      <th>image_links</th>\n    </tr>\n  </thead>\n  <tbody>\n    <tr>\n      <th>0</th>\n      <td>103.771414</td>\n      <td>1.300354</td>\n      <td>Solar Energy Research Institute Singapore</td>\n      <td>7 Engineering Drive 1, #06-01 Block E3A, Singa...</td>\n      <td>NaN</td>\n      <td>NaN</td>\n      <td>NaN</td>\n    </tr>\n    <tr>\n      <th>1</th>\n      <td>103.873962</td>\n      <td>1.306078</td>\n      <td>Singapore Sports Hub</td>\n      <td>&lt;img src=\"https://doc-10-c4-mymaps.googleuserc...</td>\n      <td>NaN</td>\n      <td>The PVs located in Singapore Sports Hub are an...</td>\n      <td>https://doc-10-c4-mymaps.googleusercontent.com...</td>\n    </tr>\n    <tr>\n      <th>2</th>\n      <td>103.856504</td>\n      <td>1.295674</td>\n      <td>South Beach Tower</td>\n      <td>&lt;img src=\"https://doc-00-c4-mymaps.googleuserc...</td>\n      <td>NaN</td>\n      <td>The PVs located on South Beach Tower  are an e...</td>\n      <td>https://doc-00-c4-mymaps.googleusercontent.com...</td>\n    </tr>\n    <tr>\n      <th>3</th>\n      <td>103.929381</td>\n      <td>1.324764</td>\n      <td>Bedok Mall</td>\n      <td>&lt;img src=\"https://doc-0s-c4-mymaps.googleuserc...</td>\n      <td>NaN</td>\n      <td>Bedok Mall, located in the east of Singapore, ...</td>\n      <td>https://doc-0s-c4-mymaps.googleusercontent.com...</td>\n    </tr>\n    <tr>\n      <th>4</th>\n      <td>103.845887</td>\n      <td>1.277148</td>\n      <td>Tanjong Pagar Centre (Guoco Tower)</td>\n      <td>&lt;img src=\"https://doc-0s-c4-mymaps.googleuserc...</td>\n      <td>NaN</td>\n      <td>The Tanjong Pagar Center is located in the mid...</td>\n      <td>https://doc-0s-c4-mymaps.googleusercontent.com...</td>\n    </tr>\n    <tr>\n      <th>...</th>\n      <td>...</td>\n      <td>...</td>\n      <td>...</td>\n      <td>...</td>\n      <td>...</td>\n      <td>...</td>\n      <td>...</td>\n    </tr>\n    <tr>\n      <th>56</th>\n      <td>151.194468</td>\n      <td>-33.842989</td>\n      <td>The Coal Loader Centre for Sustainability</td>\n      <td>&lt;img src=\"https://doc-0c-6s-mymaps.googleuserc...</td>\n      <td>https://doc-0c-6s-mymaps.googleusercontent.com...</td>\n      <td>The PV glass has been installed without the fr...</td>\n      <td>https://doc-0c-6s-mymaps.googleusercontent.com...</td>\n    </tr>\n    <tr>\n      <th>57</th>\n      <td>-7.935658</td>\n      <td>32.218173</td>\n      <td>Mohammed VI Polytechnic University</td>\n      <td>&lt;img src=\"https://doc-14-6s-mymaps.googleuserc...</td>\n      <td>https://doc-14-6s-mymaps.googleusercontent.com...</td>\n      <td>This photovoltaic pergola of nearly 600 m2 was...</td>\n      <td>https://doc-14-6s-mymaps.googleusercontent.com...</td>\n    </tr>\n    <tr>\n      <th>58</th>\n      <td>126.920240</td>\n      <td>37.522134</td>\n      <td>Federation of Korean Industries</td>\n      <td>&lt;img src=\"https://doc-04-c4-mymaps.googleuserc...</td>\n      <td>https://doc-04-c4-mymaps.googleusercontent.com...</td>\n      <td>The Federation of Korean Industries have chose...</td>\n      <td>https://doc-04-c4-mymaps.googleusercontent.com...</td>\n    </tr>\n    <tr>\n      <th>59</th>\n      <td>115.976577</td>\n      <td>28.692983</td>\n      <td>Pharmaceutical International Innovation Park</td>\n      <td>&lt;img src=\"https://doc-0g-c4-mymaps.googleuserc...</td>\n      <td>https://doc-0g-c4-mymaps.googleusercontent.com...</td>\n      <td>The Pharmaceutical International Innovation Pa...</td>\n      <td>https://doc-0g-c4-mymaps.googleusercontent.com...</td>\n    </tr>\n    <tr>\n      <th>60</th>\n      <td>120.294495</td>\n      <td>22.703036</td>\n      <td>Taiwan National Stadium</td>\n      <td>&lt;img src=\"https://doc-14-c4-mymaps.googleuserc...</td>\n      <td>https://doc-14-c4-mymaps.googleusercontent.com...</td>\n      <td>The Taiwan national stadium was made in order ...</td>\n      <td>https://doc-14-c4-mymaps.googleusercontent.com...</td>\n    </tr>\n  </tbody>\n</table>\n<p>61 rows × 7 columns</p>\n</div>"
          },
          "metadata": {}
        }
      ],
      "execution_count": 6,
      "metadata": {
        "collapsed": true,
        "jupyter": {
          "source_hidden": false,
          "outputs_hidden": false
        },
        "nteract": {
          "transient": {
            "deleting": false
          }
        },
        "execution": {
          "iopub.status.busy": "2021-06-28T11:24:47.001Z",
          "iopub.execute_input": "2021-06-28T11:24:47.010Z",
          "iopub.status.idle": "2021-06-28T11:24:47.073Z",
          "shell.execute_reply": "2021-06-28T11:24:47.079Z"
        }
      }
    }
  ],
  "metadata": {
    "kernel_info": {
      "name": "python3"
    },
    "language_info": {
      "name": "python",
      "version": "3.9.5",
      "mimetype": "text/x-python",
      "codemirror_mode": {
        "name": "ipython",
        "version": 3
      },
      "pygments_lexer": "ipython3",
      "nbconvert_exporter": "python",
      "file_extension": ".py"
    },
    "kernelspec": {
      "argv": [
        "/opt/homebrew/Caskroom/miniforge/base/bin/python",
        "-m",
        "ipykernel_launcher",
        "-f",
        "{connection_file}"
      ],
      "display_name": "Python 3",
      "language": "python",
      "name": "python3"
    },
    "nteract": {
      "version": "0.28.0"
    }
  },
  "nbformat": 4,
  "nbformat_minor": 0
}